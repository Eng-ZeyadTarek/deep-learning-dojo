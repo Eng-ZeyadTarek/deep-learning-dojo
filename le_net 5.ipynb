{
  "cells": [
    {
      "cell_type": "markdown",
      "metadata": {
        "id": "gTcheDCcpqjM"
      },
      "source": [
        "# Implmentation of LE-NET 5 model using PyTorch and quantize the model. "
      ]
    },
    {
      "cell_type": "markdown",
      "metadata": {
        "id": "jtg4xW9GqMAq"
      },
      "source": [
        "## Problem Formulation:\n",
        "We want to create a pre-defined deep learning model **(LE-NET 5)** to do multi-calssification task of numerical digits (0-9) based on the image of this digits **(all digits in the images are hand-written)**.\n",
        "\n",
        "## Dataset\n",
        "our data is **Reduced minist dataset**, it's already divided into two folders one represent the **training dataset** and the another represent the **testing dataset**, each of these folders divided into *10* arranged folders (0-9), each folder in either **training dataset** folder or **testing dataset** folder has images of one digit and each of these folders has equal number of images to the other folders.\n",
        "</br></br>\n",
        "\n",
        "\n",
        "\n",
        "\n",
        "**training dataset**: has **1000** samples in each digit folder (Total: **10000** samples).\n",
        "\n",
        "**testing dataset**: has **200** samples in each digit folder (Total: **2000** samples).\n",
        "\n",
        "\n",
        "## Experimental Protocol.\n",
        "\n",
        "1. Import all required packages.\n",
        "2. read each from each folder and get their data as numpy array.\n",
        "3. pre-processing the images.\n",
        "  1. Normalizing the images values by dividing each value by *255*, and change the their type to **float16**.\n",
        "  2. change their sizes from 28\\*28 to 32\\*32 by add padding of zeros to each image.\n",
        "  3. append each array of images with its true value and collect all of these data in one dictionary.\n",
        "</br>\n",
        "\n",
        "\n",
        "4. convert the dictionary of data to dataframe and shuffle all the data.\n",
        "5. divide **training set* to *75%* of its size as **training set* and *25%* of its size as **validation set** to use **validation set** in the training process to prevent the overfitting.\n",
        "6. divide *(X_train, y_train, X_val, y_val, X_test, y_test)* into batchs.\n",
        "7. convert each batch into tesnor and reshape each data in **6** to this formula *(number_of_batchs, batch_size, 1, image_x, image_y)*.\n",
        "8. Build **the Le-net 5** model.\n",
        "9. Build helper functions *(train, valid, plotting, accuracy)*.\n",
        "10. compile the model (create the **adam optimizer** with proper **learning rate** and the **loss function**).\n",
        "11. train the model and calculate the training loss and validation loss.\n",
        "11. test the model and calculate the test loss and test accuracy using **evaluate_model()** function.\n",
        "12. quantize **the Le-net 5** model.\n",
        "13. compare the size of the weights of **the Le-net 5** and **the quantized Le-net 5** model.\n",
        "13. test **the quantized Le-net 5** model and **the Le-net 5** model.\n"
      ]
    },
    {
      "cell_type": "markdown",
      "metadata": {
        "id": "Ia3d7ttwwxPY"
      },
      "source": [
        "### 1. Import all required packages.\n"
      ]
    },
    {
      "cell_type": "code",
      "execution_count": 2,
      "metadata": {
        "execution": {
          "iopub.execute_input": "2022-11-05T14:02:51.465577Z",
          "iopub.status.busy": "2022-11-05T14:02:51.465069Z",
          "iopub.status.idle": "2022-11-05T14:02:51.473426Z",
          "shell.execute_reply": "2022-11-05T14:02:51.472544Z",
          "shell.execute_reply.started": "2022-11-05T14:02:51.465539Z"
        },
        "id": "d1aw9GDIKfDe",
        "trusted": true
      },
      "outputs": [],
      "source": [
        "import torch\n",
        "import torchvision\n",
        "import torchvision.transforms as tr\n",
        "import torch.nn as nn\n",
        "from torch.utils.data import random_split\n",
        "import torch.optim as optim\n",
        "from torchvision import models\n",
        "import torchvision.transforms as transforms\n",
        "import copy\n",
        "from PIL import Image\n",
        "from torch import nn\n",
        "import numpy as np\n",
        "import os\n",
        "import pandas as pd\n",
        "from PIL import Image\n",
        "import matplotlib.pyplot as plt\n",
        "from torch.utils.data import DataLoader\n",
        "from datetime import datetime \n",
        "from torchvision import datasets, transforms\n",
        "import math\n",
        "import random\n",
        "import time"
      ]
    },
    {
      "cell_type": "code",
      "execution_count": 3,
      "metadata": {
        "id": "6bZXlEjxM1RM"
      },
      "outputs": [],
      "source": [
        "#64 Batch size\n",
        "BATCH_SIZE = 63"
      ]
    },
    {
      "cell_type": "code",
      "execution_count": 4,
      "metadata": {
        "id": "IV59Xw4DTcub"
      },
      "outputs": [],
      "source": [
        "def shuffle_split_data(X_dataset, y_dataset, train_size):\n",
        "    \"\"\"\n",
        "    This function is responsible for divding the dataset to X_train, y_train, X_val, y_val.\n",
        "\n",
        "    param:\n",
        "    X_dataset: training data input as Series or numpy array.\n",
        "    y_dataset: training data output as Series or numpy array.\n",
        "    train_size: the present of the X_train and y_train data.\n",
        "    \"\"\"\n",
        "    X_dataset = np.array(X_dataset)\n",
        "    y_dataset = np.array(y_dataset)\n",
        "    arr_rand = np.random.rand(X_dataset.shape[0])\n",
        "    split = arr_rand < np.percentile(arr_rand, train_size)\n",
        "\n",
        "    X_train = X_dataset[split]\n",
        "    y_train = y_dataset[split]\n",
        "    X_val =  X_dataset[~split]\n",
        "    y_val = y_dataset[~split]\n",
        "\n",
        "    return np.array(X_train), np.array(y_train), np.array(X_val), np.array(y_val)"
      ]
    },
    {
      "cell_type": "code",
      "execution_count": 5,
      "metadata": {
        "execution": {
          "iopub.execute_input": "2022-11-05T14:02:51.529528Z",
          "iopub.status.busy": "2022-11-05T14:02:51.528415Z",
          "iopub.status.idle": "2022-11-05T14:02:59.557074Z",
          "shell.execute_reply": "2022-11-05T14:02:59.556002Z",
          "shell.execute_reply.started": "2022-11-05T14:02:51.529470Z"
        },
        "id": "8iQ7BsBiKfDj",
        "trusted": true
      },
      "outputs": [],
      "source": [
        "training_img_folder = \"/content/drive/MyDrive/Colab Notebooks/Datasets/ReducedMNISTData/ReducedTraingingdata\"\n",
        "testing_img_folder = \"/content/drive/MyDrive/Colab Notebooks/Datasets/ReducedMNISTData/Reduced Testing data\"\n",
        "\n",
        "def create_dataset(images_folder):\n",
        "    \"\"\"\n",
        "    This function is responsible for create a dataframe of two columns (image_data as numpy array, image_value as integer value)\n",
        "\n",
        "    param:\n",
        "    images_folder: path of the whole dataset with 10 folders.\n",
        "    \"\"\"\n",
        "    dataset = {}\n",
        "    images = []\n",
        "    images_values = []\n",
        "    for path, subdirs, files in os.walk(images_folder):\n",
        "        for name in files:\n",
        "          if name.endswith('jpg'):\n",
        "            #read image as numpy array and normalize its values.\n",
        "            image = np.asarray(Image.open(f'{path}/{name}')) / 255.0\n",
        "            #convert their values to float16. \n",
        "            image = image.astype('float16')\n",
        "            #convert them to 32*32 by adding border of zeros around each image. \n",
        "            image = np.pad(image, ((2,2),(2,2)), 'constant')\n",
        "            #add third dim as 1.\n",
        "            image = image.reshape(1,32,32)\n",
        "            #append image data to list of images data.\n",
        "            images.append(image)\n",
        "            #append name of the folder (digit) as the true value of that image.\n",
        "            images_values.append(int(path[-1]))\n",
        "            \n",
        "    dataset['images'] = images\n",
        "    dataset['images_values'] = images_values\n",
        "    return dataset\n",
        "\n",
        "#create training dataset as dictionary and the keys are the column names.\n",
        "training_dataset = create_dataset(training_img_folder)\n",
        "#create testing dataset as dictionary and the keys are the column names.\n",
        "testing_dataset = create_dataset(testing_img_folder)\n",
        "\n",
        "#convert training dataset, testing dataset dictionary to dataframe.\n",
        "training_dataset, testing_dataset  = pd.DataFrame(training_dataset), pd.DataFrame(testing_dataset)\n",
        "#shuffle the data inside training_dataset and testing_dataset.\n",
        "training_dataset, testing_dataset = training_dataset.sample(frac=1).reset_index(drop=True), testing_dataset.sample(frac=1).reset_index(drop=True)"
      ]
    },
    {
      "cell_type": "code",
      "execution_count": 6,
      "metadata": {
        "id": "Q_ej9XeIcHlq"
      },
      "outputs": [],
      "source": [
        "#divide training_dataset to X_train, y_train, X_val, y_val where training dataset is 75% of the original training dataset.\n",
        "X_train, y_train, X_val, y_val = shuffle_split_data(training_dataset['images'], training_dataset['images_values'], train_size = 75)"
      ]
    },
    {
      "cell_type": "code",
      "execution_count": 7,
      "metadata": {
        "colab": {
          "base_uri": "https://localhost:8080/"
        },
        "id": "qgIYQnq8lx8n",
        "outputId": "f6c6238a-ec1c-4b7a-86c5-359256767d3c"
      },
      "outputs": [
        {
          "name": "stdout",
          "output_type": "stream",
          "text": [
            "num_of_training_samples: 7500\n",
            "num_of_validation_samples: 2500\n",
            "num_of_testing_samples: 2000\n"
          ]
        }
      ],
      "source": [
        "#print samples in each dataset.\n",
        "num_of_training_samples = len(X_train)\n",
        "num_of_validation_samples = len(X_val)\n",
        "num_of_testing_samples = len(testing_dataset)\n",
        "print(f\"num_of_training_samples: {len(X_train)}\")\n",
        "print(f\"num_of_validation_samples: {len(X_val)}\")\n",
        "print(f\"num_of_testing_samples: {len(testing_dataset)}\")"
      ]
    },
    {
      "cell_type": "code",
      "execution_count": 8,
      "metadata": {
        "id": "ESpzwPdbLCpS"
      },
      "outputs": [],
      "source": [
        "#divid each dataset into batches.\n",
        "X_train = np.array_split(X_train,len(X_train) / BATCH_SIZE )\n",
        "y_train = np.array_split(y_train, len(y_train) / BATCH_SIZE)\n",
        "X_val = np.array_split(X_val, len(X_val) / BATCH_SIZE )\n",
        "y_val = np.array_split(y_val, len(y_val) / BATCH_SIZE )\n",
        "X_test = np.array_split(np.array(training_dataset['images']), len(training_dataset['images']) / 20 )\n",
        "y_test = np.array_split(np.array(training_dataset['images_values']), len(training_dataset['images_values']) / 20 )"
      ]
    },
    {
      "cell_type": "markdown",
      "metadata": {
        "id": "QJnFfAQ_6poW"
      },
      "source": [
        "### Convert data to pytorch tensors."
      ]
    },
    {
      "cell_type": "code",
      "execution_count": 9,
      "metadata": {
        "id": "7IxeMKqVRB6z"
      },
      "outputs": [],
      "source": [
        "def convert_input_to_torch_tensor(data):\n",
        "  \"\"\"\n",
        "  function to convert every batch in the dataset to pytorch tensor and reshape this batch to (batch_size, 1, 32, 32)\n",
        "  \"\"\"\n",
        "  images = []\n",
        "  for i in range(len(data)):\n",
        "    #create empty array\n",
        "    arr = np.empty(shape=[1, 32, 32])\n",
        "    for j in range(len(data[i])):\n",
        "      #stack all the images in the batch together.\n",
        "      arr = np.vstack((arr, data[i][j]))\n",
        "    #delete first image or the empty image\n",
        "    arr = np.delete(arr, (0), axis=0)\n",
        "    #reshape each batch in the dataset\n",
        "    arr = arr.reshape((arr.shape[0],1,32,32))\n",
        "    #convert it into tensor\n",
        "    arr = torch.from_numpy(arr)\n",
        "    #append this batch to the new dataset.\n",
        "    images.append(arr)\n",
        "  data = np.array(images, dtype = object)\n",
        "  return data"
      ]
    },
    {
      "cell_type": "code",
      "execution_count": 10,
      "metadata": {
        "id": "1wfImyT40llK"
      },
      "outputs": [],
      "source": [
        "def convert_output_to_torch_tensor(data):\n",
        "  \"\"\"\n",
        "  convert every output dataset to pytorch tensor.\n",
        "  \"\"\"\n",
        "  for i in range(len(data)):\n",
        "    data[i] = torch.from_numpy(data[i])\n",
        "  return data"
      ]
    },
    {
      "cell_type": "code",
      "execution_count": 11,
      "metadata": {
        "colab": {
          "base_uri": "https://localhost:8080/"
        },
        "id": "-2KiWVx9RUys",
        "outputId": "124cd4d9-8c08-4a3a-89b3-2dbbef726c25"
      },
      "outputs": [
        {
          "name": "stderr",
          "output_type": "stream",
          "text": [
            "/usr/local/lib/python3.7/dist-packages/ipykernel_launcher.py:20: FutureWarning: The input object of type 'Tensor' is an array-like implementing one of the corresponding protocols (`__array__`, `__array_interface__` or `__array_struct__`); but not a sequence (or 0-D). In the future, this object will be coerced as if it was first converted using `np.array(obj)`. To retain the old behaviour, you have to either modify the type 'Tensor', or assign to an empty array created with `np.empty(correct_shape, dtype=object)`.\n"
          ]
        }
      ],
      "source": [
        "X_train = convert_input_to_torch_tensor(X_train)\n",
        "X_val = convert_input_to_torch_tensor(X_val)\n",
        "X_test = convert_input_to_torch_tensor(X_test)"
      ]
    },
    {
      "cell_type": "code",
      "execution_count": 12,
      "metadata": {
        "id": "ijOnIAcFRJ8_"
      },
      "outputs": [],
      "source": [
        "y_train = convert_output_to_torch_tensor(y_train)\n",
        "y_val = convert_output_to_torch_tensor(y_val)\n",
        "y_test = convert_output_to_torch_tensor(y_test)"
      ]
    },
    {
      "cell_type": "code",
      "execution_count": 13,
      "metadata": {
        "colab": {
          "base_uri": "https://localhost:8080/"
        },
        "id": "6MopDPZHrQhs",
        "outputId": "6e26fbac-74df-4f8a-a8b4-ed05c303f6cc"
      },
      "outputs": [
        {
          "name": "stdout",
          "output_type": "stream",
          "text": [
            "<class 'torch.Tensor'>\n",
            "<class 'torch.Tensor'>\n",
            "torch.Size([64, 1, 32, 32])\n",
            "torch.Size([20])\n"
          ]
        }
      ],
      "source": [
        "print(type(X_train[0]))\n",
        "print(type(y_test[0]))\n",
        "print(X_train[0].shape)\n",
        "print(y_test[0].shape)"
      ]
    },
    {
      "cell_type": "markdown",
      "metadata": {
        "id": "Cjvh2rYf1e7i"
      },
      "source": [
        "### Create Le-Net 5 Model and all helper functions then train this model.\n",
        "\n",
        "**The LeNet 5 model** takes input of size **32x32x1** and emits a **10-dimentional output**, since the model is trained to recognize **handwritten digits (0-9)**."
      ]
    },
    {
      "cell_type": "code",
      "execution_count": 14,
      "metadata": {
        "id": "o7Kscf36w6N4"
      },
      "outputs": [],
      "source": [
        "class LeNet(nn.Module):\n",
        "    def __init__(self):\n",
        "        super(LeNet, self).__init__()\n",
        "        \n",
        "        #feature extraction layers\n",
        "        self.CNN = nn.Sequential(\n",
        "        nn.Conv2d(1, 28, kernel_size=(5,5), stride = (1,1), padding = (0, 0)),\n",
        "        nn.ReLU(),\n",
        "        nn.AvgPool2d(kernel_size=2),\n",
        "        nn.Conv2d(28, 16, kernel_size=(5,5), stride = (1,1), padding = (0, 0)),\n",
        "        nn.ReLU(),\n",
        "        nn.AvgPool2d(kernel_size=2))\n",
        "\n",
        "        #flat the output of AvgPool2d layer.\n",
        "        self.flat=nn.Flatten()\n",
        "        \n",
        "        #Fully connected layers to update the weights.\n",
        "        self.FC = nn.Sequential(\n",
        "            nn.Linear(400,120),\n",
        "            nn.ReLU(),\n",
        "            nn.Linear(120,84),\n",
        "            nn.ReLU(),\n",
        "            nn.Linear(84,10))\n",
        "        \n",
        "    def forward(self,x):\n",
        "\n",
        "        output = self.CNN(x)\n",
        "        output = self.flat(output)\n",
        "        logits = self.FC(output)\n",
        "        return logits"
      ]
    },
    {
      "cell_type": "code",
      "execution_count": 15,
      "metadata": {
        "execution": {
          "iopub.execute_input": "2022-11-05T14:02:59.569703Z",
          "iopub.status.busy": "2022-11-05T14:02:59.569121Z",
          "iopub.status.idle": "2022-11-05T14:02:59.581755Z",
          "shell.execute_reply": "2022-11-05T14:02:59.580703Z",
          "shell.execute_reply.started": "2022-11-05T14:02:59.569654Z"
        },
        "id": "qiIFyr3nKfDk",
        "trusted": true
      },
      "outputs": [],
      "source": [
        "def train(X_train, y_train, model, criterion, optimizer, device):\n",
        "    '''\n",
        "    Function for the training process of the training loop\n",
        "    '''\n",
        "    model.train()\n",
        "    running_loss = 0\n",
        "\n",
        "    for x, y_true in zip(X_train, y_train):\n",
        "        optimizer.zero_grad()\n",
        "            \n",
        "        # Forward pass\n",
        "        x=x.float()\n",
        "        y_true = y_true.type(torch.LongTensor)\n",
        "        x = x.to(device)\n",
        "        y_true = y_true.to(device)\n",
        "\n",
        "        predicted_y = model(x)\n",
        "        loss = criterion(predicted_y, y_true) \n",
        "        running_loss += loss.item() * x.size(0)\n",
        "\n",
        "        # Backward pass\n",
        "        loss.backward()\n",
        "        #Optimize the weights using backpropagation.\n",
        "        optimizer.step()\n",
        "    epoch_loss = running_loss / num_of_training_samples\n",
        "    return model, optimizer, epoch_loss"
      ]
    },
    {
      "cell_type": "code",
      "execution_count": 16,
      "metadata": {
        "execution": {
          "iopub.execute_input": "2022-11-05T14:02:59.584309Z",
          "iopub.status.busy": "2022-11-05T14:02:59.583529Z",
          "iopub.status.idle": "2022-11-05T14:02:59.600789Z",
          "shell.execute_reply": "2022-11-05T14:02:59.599371Z",
          "shell.execute_reply.started": "2022-11-05T14:02:59.584239Z"
        },
        "id": "jm0D0rGfKfDk",
        "trusted": true
      },
      "outputs": [],
      "source": [
        "def validate(X_val, y_val, model, criterion, device):\n",
        "    '''\n",
        "    Function for the validation step of the training loop\n",
        "    '''\n",
        "   \n",
        "    model.eval()\n",
        "    running_loss = 0\n",
        "    for x, y_true in zip(X_val, y_val):\n",
        "        # Forward pass and record loss\n",
        "        x=x.float()\n",
        "        y_true = y_true.type(torch.LongTensor)\n",
        "        x = x.to(device)\n",
        "        y_true = y_true.to(device)\n",
        "\n",
        "        predicted_y = model(x)\n",
        "        #Calculate the loss\n",
        "        loss = criterion(predicted_y, y_true)\n",
        "        running_loss += loss.item() * x.size(0)\n",
        "\n",
        "    epoch_loss = running_loss / num_of_validation_samples\n",
        "        \n",
        "    return model, epoch_loss"
      ]
    },
    {
      "cell_type": "code",
      "execution_count": 17,
      "metadata": {
        "execution": {
          "iopub.execute_input": "2022-11-05T14:02:59.605922Z",
          "iopub.status.busy": "2022-11-05T14:02:59.604651Z",
          "iopub.status.idle": "2022-11-05T14:02:59.614695Z",
          "shell.execute_reply": "2022-11-05T14:02:59.613771Z",
          "shell.execute_reply.started": "2022-11-05T14:02:59.605861Z"
        },
        "id": "wM7znvViKfDl",
        "trusted": true
      },
      "outputs": [],
      "source": [
        "def accuracy(model, input, output , device):\n",
        "    '''\n",
        "    Function for computing the accuracy of the predictions over the entire data_loader\n",
        "    '''\n",
        "    \n",
        "    correct_pred = 0 \n",
        "    n = 0\n",
        "    \n",
        "    with torch.no_grad():\n",
        "        model.eval()\n",
        "        for x, y_true in zip(input, output):\n",
        "            x=x.float()\n",
        "            y_true = y_true.type(torch.LongTensor)\n",
        "\n",
        "            x = x.to(device)\n",
        "            y_true = y_true.to(device)\n",
        "\n",
        "            predicted_y = model(x)\n",
        "            predicted_labels = torch.max(predicted_y, 1)\n",
        "            n += y_true.size(0)\n",
        "            correct_pred += (predicted_labels[1] == y_true).sum()\n",
        "    return correct_pred.float() / n * 100"
      ]
    },
    {
      "cell_type": "code",
      "execution_count": 18,
      "metadata": {
        "id": "-0kGKFcJVXgd"
      },
      "outputs": [],
      "source": [
        "def model_evaluation(model, input, output, device):\n",
        "    '''\n",
        "    Function for computing the accuracy of the predictions over the entire data_loader\n",
        "    '''\n",
        "    \n",
        "    correct_pred = 0 \n",
        "    n = 0\n",
        "    \n",
        "    with torch.no_grad():\n",
        "        #load weights of the model.\n",
        "        model.eval()\n",
        "        running_loss = 0\n",
        "        for x, y_true in zip(input, output):\n",
        "            x=x.float()\n",
        "            y_true = y_true.type(torch.LongTensor)\n",
        "            x = x.to(device)\n",
        "            y_true = y_true.to(device)\n",
        "            predicted_y = model(x)\n",
        "            loss = criterion(predicted_y, y_true)\n",
        "            predicted_labels = torch.max(predicted_y, 1)\n",
        "            n += y_true.size(0)\n",
        "            correct_pred += (predicted_labels[1] == y_true).sum()\n",
        "            running_loss += loss.item() * x.size(0)\n",
        "            acc = correct_pred.float() / n * 100\n",
        "    return round((running_loss / num_of_validation_samples),3), round(acc.item(),2)"
      ]
    },
    {
      "cell_type": "code",
      "execution_count": 19,
      "metadata": {
        "execution": {
          "iopub.execute_input": "2022-11-05T14:02:59.617503Z",
          "iopub.status.busy": "2022-11-05T14:02:59.616273Z",
          "iopub.status.idle": "2022-11-05T14:02:59.631175Z",
          "shell.execute_reply": "2022-11-05T14:02:59.629645Z",
          "shell.execute_reply.started": "2022-11-05T14:02:59.617452Z"
        },
        "id": "pnYfqgQkKfDl",
        "trusted": true
      },
      "outputs": [],
      "source": [
        "def plot_losses(training_losses, validation_losses):\n",
        "    '''\n",
        "    Function for plotting training and validation losses\n",
        "    '''\n",
        "    \n",
        "    # temporarily change the style of the plots to seaborn \n",
        "    plt.style.use('seaborn')\n",
        "\n",
        "    training_losses = np.array(training_losses) \n",
        "    validation_losses = np.array(validation_losses)\n",
        "\n",
        "    fig, ax = plt.subplots(figsize = (7.5, 5))\n",
        "\n",
        "    ax.plot(training_losses, color='blue', label='Training loss') \n",
        "    ax.plot(validation_losses, color='red', label='Validation loss')\n",
        "    ax.set(title=\"Loss over epochs\", \n",
        "            xlabel='Epoch',\n",
        "            ylabel='Loss') \n",
        "    ax.legend()\n",
        "    fig.show()\n",
        "    \n",
        "    # change the plot style to default\n",
        "    plt.style.use('default')"
      ]
    },
    {
      "cell_type": "code",
      "execution_count": 20,
      "metadata": {
        "id": "BiKN_Ye2z8Jx"
      },
      "outputs": [],
      "source": [
        "def plot_acc(train_acc, valid_acc):\n",
        "    '''\n",
        "    Function for plotting training and validation accuracies\n",
        "    '''\n",
        "    \n",
        "    # temporarily change the style of the plots to seaborn \n",
        "    plt.style.use('seaborn')\n",
        "\n",
        "    train_acc = np.array(train_acc) \n",
        "    valid_acc = np.array(valid_acc)\n",
        "\n",
        "    fig, ax = plt.subplots(figsize = (7.5, 5))\n",
        "\n",
        "    ax.plot(train_acc, color='blue', label='Training accuracy') \n",
        "    ax.plot(valid_acc, color='red', label='Validation accuracy')\n",
        "    ax.set(title=\"Accuracy over epochs\", \n",
        "            xlabel='Epoch',\n",
        "            ylabel='Accuracy') \n",
        "    ax.legend()\n",
        "    fig.show()\n",
        "    \n",
        "    # change the plot style to default\n",
        "    plt.style.use('default')"
      ]
    },
    {
      "cell_type": "code",
      "execution_count": 21,
      "metadata": {
        "execution": {
          "iopub.execute_input": "2022-11-05T14:02:59.634118Z",
          "iopub.status.busy": "2022-11-05T14:02:59.633229Z",
          "iopub.status.idle": "2022-11-05T14:02:59.652601Z",
          "shell.execute_reply": "2022-11-05T14:02:59.651511Z",
          "shell.execute_reply.started": "2022-11-05T14:02:59.634061Z"
        },
        "id": "EnCpus6GKfDm",
        "trusted": true
      },
      "outputs": [],
      "source": [
        "def training_loop(model, criterion, early_stopping ,max_patience, optimizer, X_train, y_train, X_val, y_val, epochs, device, scheduler, scheduler_on = 'valid_acc',print_every=1):\n",
        "    '''\n",
        "    Function defining the entire training loop\n",
        "    '''\n",
        "    \n",
        "    # set objects for storing metrics\n",
        "    best_loss = 1e10\n",
        "    train_losses = []\n",
        "    valid_losses = []\n",
        " \n",
        "    # Train model\n",
        "    valid_acc_list, train_acc_list = [], []\n",
        "    best_acc, best_epoch, patience = 0, 0, 0\n",
        "    best_model = model\n",
        "    for epoch in range(0, epochs):\n",
        "        # training\n",
        "        model, optimizer, train_loss = train(X_train, y_train, model, criterion, optimizer, device)\n",
        "        train_losses.append(train_loss)\n",
        "        # validation\n",
        "        with torch.no_grad():\n",
        "            model, valid_loss = validate(X_val, y_val, model, criterion, device)\n",
        "            valid_losses.append(valid_loss)\n",
        "\n",
        "        if epoch % print_every == (print_every - 1):\n",
        "            train_acc = accuracy(model, X_train, y_train, device=device)\n",
        "            valid_acc = accuracy(model, X_val, y_val, device=device)\n",
        "            train_acc_list.append(train_acc.item())\n",
        "            valid_acc_list.append(valid_acc.item())\n",
        "        \n",
        "        #Early_stopping to prevent the overfitting of the model if validation accuracy started to decrease.\n",
        "        if early_stopping == True:\n",
        "          if valid_acc > best_acc:\n",
        "              best_acc = valid_acc.item()\n",
        "              best_model = model\n",
        "              best_epoch = epoch\n",
        "              patience = 0\n",
        "          else:\n",
        "              patience += 1\n",
        "          if patience > max_patience:\n",
        "              torch.save(best_model.state_dict(), \"best_model_weights_\" + str(epoch) + '_weight.pth')\n",
        "              print(f\"Early stopping and save the model with best validation accuracy: {best_acc:.2f}% in epoch {best_epoch + 1}\")\n",
        "              break\n",
        "\n",
        "        #scheduler to change the value of the learning rate if validation accuracy not chaning over traning.\n",
        "        if scheduler is not None:\n",
        "            if scheduler_on == 'valid_acc':\n",
        "                scheduler.step(valid_acc_list[-1])\n",
        "            elif scheduler_on == 'valid_loss':\n",
        "                scheduler.step(valid_losses[-1])\n",
        "            else:\n",
        "                raise ValueError(f'Invalid `scheduler_on` choice.')\n",
        "       \n",
        "            print(f'{datetime.now().time().replace(microsecond=0)} --- '\n",
        "                  f'Epoch: {epoch + 1}\\t'\n",
        "                  f'Train loss: {train_loss:.4f}\\t'\n",
        "                  f'Valid loss: {valid_loss:.4f}\\t'\n",
        "                  f'Train accuracy: {train_acc:.1f}%\\t'\n",
        "                  f'Valid accuracy: {valid_acc:.1f}%')\n",
        "            \n",
        "    plot_losses(train_losses, valid_losses)\n",
        "    plot_acc(train_acc_list, valid_acc_list)\n",
        "    return best_model, optimizer, (train_losses, valid_losses)"
      ]
    },
    {
      "cell_type": "code",
      "execution_count": 22,
      "metadata": {
        "id": "o0HQtU6hYZK0"
      },
      "outputs": [],
      "source": [
        "model=LeNet()\n",
        "#won't run all epochs and will choose only the model with optimal weights.\n",
        "early_stopping = True\n",
        "EPOCHS = 100\n",
        "patience = 20 if early_stopping == True else 0\n",
        "#Adam optimizer\n",
        "opt = torch.optim.Adam(model.parameters(), lr = 0.01)\n",
        "#scheduler to reduce lr by 0.1 if it's stopped to learn\n",
        "scheduler = torch.optim.lr_scheduler.ReduceLROnPlateau(opt, factor = 0.1, mode = 'max', verbose = True)\n",
        "#cross entropy loss\n",
        "criterion = nn.CrossEntropyLoss()"
      ]
    },
    {
      "cell_type": "code",
      "execution_count": 23,
      "metadata": {
        "colab": {
          "base_uri": "https://localhost:8080/",
          "height": 1000
        },
        "execution": {
          "iopub.execute_input": "2022-11-05T14:02:59.770359Z",
          "iopub.status.busy": "2022-11-05T14:02:59.769872Z",
          "iopub.status.idle": "2022-11-05T14:03:47.483693Z",
          "shell.execute_reply": "2022-11-05T14:03:47.481951Z",
          "shell.execute_reply.started": "2022-11-05T14:02:59.770307Z"
        },
        "id": "QYHMD58uKfDn",
        "outputId": "c9af7ded-9266-424a-c135-4dc3a1825435",
        "trusted": true
      },
      "outputs": [
        {
          "name": "stdout",
          "output_type": "stream",
          "text": [
            "You're now training using CPU\n",
            "\n",
            "18:56:59 --- Epoch: 1\tTrain loss: 1.0403\tValid loss: 0.3102\tTrain accuracy: 90.2%\tValid accuracy: 89.9%\n",
            "18:57:08 --- Epoch: 2\tTrain loss: 0.2513\tValid loss: 0.2101\tTrain accuracy: 94.7%\tValid accuracy: 93.3%\n",
            "18:57:18 --- Epoch: 3\tTrain loss: 0.1831\tValid loss: 0.1777\tTrain accuracy: 95.8%\tValid accuracy: 94.8%\n",
            "18:57:27 --- Epoch: 4\tTrain loss: 0.1599\tValid loss: 0.2109\tTrain accuracy: 94.9%\tValid accuracy: 93.7%\n",
            "18:57:36 --- Epoch: 5\tTrain loss: 0.1441\tValid loss: 0.1854\tTrain accuracy: 95.8%\tValid accuracy: 94.4%\n",
            "18:57:45 --- Epoch: 6\tTrain loss: 0.1364\tValid loss: 0.1636\tTrain accuracy: 97.2%\tValid accuracy: 95.2%\n",
            "18:57:55 --- Epoch: 7\tTrain loss: 0.1290\tValid loss: 0.1815\tTrain accuracy: 96.6%\tValid accuracy: 94.7%\n",
            "18:58:04 --- Epoch: 8\tTrain loss: 0.1301\tValid loss: 0.1828\tTrain accuracy: 97.0%\tValid accuracy: 95.0%\n",
            "18:58:14 --- Epoch: 9\tTrain loss: 0.1112\tValid loss: 0.2009\tTrain accuracy: 97.1%\tValid accuracy: 94.9%\n",
            "18:58:23 --- Epoch: 10\tTrain loss: 0.0962\tValid loss: 0.1780\tTrain accuracy: 97.5%\tValid accuracy: 95.6%\n",
            "18:58:32 --- Epoch: 11\tTrain loss: 0.0923\tValid loss: 0.1834\tTrain accuracy: 97.6%\tValid accuracy: 95.5%\n",
            "18:58:42 --- Epoch: 12\tTrain loss: 0.0933\tValid loss: 0.1886\tTrain accuracy: 97.4%\tValid accuracy: 95.5%\n",
            "18:58:51 --- Epoch: 13\tTrain loss: 0.0876\tValid loss: 0.2139\tTrain accuracy: 97.4%\tValid accuracy: 95.2%\n",
            "18:59:00 --- Epoch: 14\tTrain loss: 0.0888\tValid loss: 0.1778\tTrain accuracy: 97.7%\tValid accuracy: 95.7%\n",
            "18:59:10 --- Epoch: 15\tTrain loss: 0.0959\tValid loss: 0.2201\tTrain accuracy: 96.9%\tValid accuracy: 94.6%\n",
            "18:59:19 --- Epoch: 16\tTrain loss: 0.0788\tValid loss: 0.2257\tTrain accuracy: 96.9%\tValid accuracy: 94.6%\n",
            "18:59:30 --- Epoch: 17\tTrain loss: 0.0799\tValid loss: 0.1996\tTrain accuracy: 97.5%\tValid accuracy: 95.6%\n",
            "18:59:39 --- Epoch: 18\tTrain loss: 0.0829\tValid loss: 0.2220\tTrain accuracy: 97.6%\tValid accuracy: 95.4%\n",
            "18:59:48 --- Epoch: 19\tTrain loss: 0.0766\tValid loss: 0.1863\tTrain accuracy: 98.1%\tValid accuracy: 95.8%\n",
            "18:59:58 --- Epoch: 20\tTrain loss: 0.0612\tValid loss: 0.1987\tTrain accuracy: 98.3%\tValid accuracy: 95.7%\n",
            "19:00:07 --- Epoch: 21\tTrain loss: 0.0559\tValid loss: 0.2453\tTrain accuracy: 97.8%\tValid accuracy: 95.8%\n",
            "19:00:17 --- Epoch: 22\tTrain loss: 0.0711\tValid loss: 0.2369\tTrain accuracy: 97.8%\tValid accuracy: 95.1%\n",
            "19:00:26 --- Epoch: 23\tTrain loss: 0.0641\tValid loss: 0.1914\tTrain accuracy: 98.6%\tValid accuracy: 96.1%\n",
            "19:00:36 --- Epoch: 24\tTrain loss: 0.0582\tValid loss: 0.1841\tTrain accuracy: 98.5%\tValid accuracy: 95.6%\n",
            "19:00:47 --- Epoch: 25\tTrain loss: 0.0650\tValid loss: 0.2555\tTrain accuracy: 98.0%\tValid accuracy: 95.2%\n",
            "19:00:56 --- Epoch: 26\tTrain loss: 0.0702\tValid loss: 0.2109\tTrain accuracy: 98.7%\tValid accuracy: 96.2%\n",
            "19:01:06 --- Epoch: 27\tTrain loss: 0.0510\tValid loss: 0.2325\tTrain accuracy: 98.4%\tValid accuracy: 95.7%\n",
            "19:01:15 --- Epoch: 28\tTrain loss: 0.0580\tValid loss: 0.2557\tTrain accuracy: 98.1%\tValid accuracy: 95.3%\n",
            "19:01:24 --- Epoch: 29\tTrain loss: 0.0644\tValid loss: 0.2739\tTrain accuracy: 97.6%\tValid accuracy: 95.1%\n",
            "19:01:34 --- Epoch: 30\tTrain loss: 0.0618\tValid loss: 0.2352\tTrain accuracy: 98.2%\tValid accuracy: 95.7%\n",
            "19:01:43 --- Epoch: 31\tTrain loss: 0.0582\tValid loss: 0.2292\tTrain accuracy: 98.4%\tValid accuracy: 95.7%\n",
            "19:01:52 --- Epoch: 32\tTrain loss: 0.0496\tValid loss: 0.2237\tTrain accuracy: 98.8%\tValid accuracy: 95.9%\n",
            "19:02:02 --- Epoch: 33\tTrain loss: 0.0659\tValid loss: 0.3115\tTrain accuracy: 98.3%\tValid accuracy: 95.5%\n",
            "19:02:11 --- Epoch: 34\tTrain loss: 0.0810\tValid loss: 0.2447\tTrain accuracy: 98.6%\tValid accuracy: 95.4%\n",
            "19:02:20 --- Epoch: 35\tTrain loss: 0.0493\tValid loss: 0.2981\tTrain accuracy: 98.4%\tValid accuracy: 95.0%\n",
            "19:02:30 --- Epoch: 36\tTrain loss: 0.0483\tValid loss: 0.2242\tTrain accuracy: 99.1%\tValid accuracy: 96.0%\n",
            "Epoch 00037: reducing learning rate of group 0 to 1.0000e-03.\n",
            "19:02:39 --- Epoch: 37\tTrain loss: 0.0536\tValid loss: 0.2589\tTrain accuracy: 98.4%\tValid accuracy: 95.8%\n",
            "19:02:48 --- Epoch: 38\tTrain loss: 0.0309\tValid loss: 0.1802\tTrain accuracy: 99.6%\tValid accuracy: 96.5%\n",
            "19:02:58 --- Epoch: 39\tTrain loss: 0.0165\tValid loss: 0.1813\tTrain accuracy: 99.7%\tValid accuracy: 96.4%\n",
            "19:03:07 --- Epoch: 40\tTrain loss: 0.0123\tValid loss: 0.1835\tTrain accuracy: 99.8%\tValid accuracy: 96.4%\n",
            "19:03:16 --- Epoch: 41\tTrain loss: 0.0097\tValid loss: 0.1869\tTrain accuracy: 99.9%\tValid accuracy: 96.4%\n",
            "19:03:26 --- Epoch: 42\tTrain loss: 0.0082\tValid loss: 0.1900\tTrain accuracy: 99.9%\tValid accuracy: 96.4%\n",
            "19:03:35 --- Epoch: 43\tTrain loss: 0.0072\tValid loss: 0.1928\tTrain accuracy: 99.9%\tValid accuracy: 96.4%\n",
            "19:03:45 --- Epoch: 44\tTrain loss: 0.0063\tValid loss: 0.1958\tTrain accuracy: 99.9%\tValid accuracy: 96.5%\n",
            "19:03:54 --- Epoch: 45\tTrain loss: 0.0057\tValid loss: 0.1990\tTrain accuracy: 99.9%\tValid accuracy: 96.5%\n",
            "19:04:04 --- Epoch: 46\tTrain loss: 0.0050\tValid loss: 0.2022\tTrain accuracy: 99.9%\tValid accuracy: 96.5%\n",
            "19:04:13 --- Epoch: 47\tTrain loss: 0.0045\tValid loss: 0.2053\tTrain accuracy: 99.9%\tValid accuracy: 96.5%\n",
            "19:04:23 --- Epoch: 48\tTrain loss: 0.0040\tValid loss: 0.2076\tTrain accuracy: 99.9%\tValid accuracy: 96.5%\n",
            "19:04:34 --- Epoch: 49\tTrain loss: 0.0033\tValid loss: 0.2107\tTrain accuracy: 100.0%\tValid accuracy: 96.5%\n",
            "19:04:43 --- Epoch: 50\tTrain loss: 0.0028\tValid loss: 0.2143\tTrain accuracy: 100.0%\tValid accuracy: 96.6%\n",
            "19:04:53 --- Epoch: 51\tTrain loss: 0.0025\tValid loss: 0.2170\tTrain accuracy: 100.0%\tValid accuracy: 96.5%\n",
            "19:05:02 --- Epoch: 52\tTrain loss: 0.0022\tValid loss: 0.2204\tTrain accuracy: 100.0%\tValid accuracy: 96.5%\n",
            "19:05:12 --- Epoch: 53\tTrain loss: 0.0019\tValid loss: 0.2230\tTrain accuracy: 100.0%\tValid accuracy: 96.5%\n",
            "19:05:21 --- Epoch: 54\tTrain loss: 0.0018\tValid loss: 0.2260\tTrain accuracy: 100.0%\tValid accuracy: 96.5%\n",
            "19:05:30 --- Epoch: 55\tTrain loss: 0.0016\tValid loss: 0.2289\tTrain accuracy: 100.0%\tValid accuracy: 96.5%\n",
            "19:05:40 --- Epoch: 56\tTrain loss: 0.0014\tValid loss: 0.2310\tTrain accuracy: 100.0%\tValid accuracy: 96.6%\n",
            "19:05:49 --- Epoch: 57\tTrain loss: 0.0012\tValid loss: 0.2348\tTrain accuracy: 100.0%\tValid accuracy: 96.6%\n",
            "19:05:59 --- Epoch: 58\tTrain loss: 0.0010\tValid loss: 0.2369\tTrain accuracy: 100.0%\tValid accuracy: 96.5%\n",
            "19:06:08 --- Epoch: 59\tTrain loss: 0.0009\tValid loss: 0.2408\tTrain accuracy: 100.0%\tValid accuracy: 96.5%\n",
            "19:06:18 --- Epoch: 60\tTrain loss: 0.0008\tValid loss: 0.2439\tTrain accuracy: 100.0%\tValid accuracy: 96.5%\n",
            "19:06:27 --- Epoch: 61\tTrain loss: 0.0007\tValid loss: 0.2469\tTrain accuracy: 100.0%\tValid accuracy: 96.5%\n",
            "19:06:37 --- Epoch: 62\tTrain loss: 0.0006\tValid loss: 0.2502\tTrain accuracy: 100.0%\tValid accuracy: 96.5%\n",
            "19:06:46 --- Epoch: 63\tTrain loss: 0.0005\tValid loss: 0.2531\tTrain accuracy: 100.0%\tValid accuracy: 96.6%\n",
            "19:06:55 --- Epoch: 64\tTrain loss: 0.0005\tValid loss: 0.2565\tTrain accuracy: 100.0%\tValid accuracy: 96.6%\n",
            "19:07:05 --- Epoch: 65\tTrain loss: 0.0004\tValid loss: 0.2594\tTrain accuracy: 100.0%\tValid accuracy: 96.5%\n",
            "19:07:14 --- Epoch: 66\tTrain loss: 0.0004\tValid loss: 0.2615\tTrain accuracy: 100.0%\tValid accuracy: 96.6%\n",
            "19:07:24 --- Epoch: 67\tTrain loss: 0.0004\tValid loss: 0.2655\tTrain accuracy: 100.0%\tValid accuracy: 96.6%\n",
            "Epoch 00068: reducing learning rate of group 0 to 1.0000e-04.\n",
            "19:07:33 --- Epoch: 68\tTrain loss: 0.0003\tValid loss: 0.2677\tTrain accuracy: 100.0%\tValid accuracy: 96.6%\n",
            "19:07:43 --- Epoch: 69\tTrain loss: 0.0003\tValid loss: 0.2681\tTrain accuracy: 100.0%\tValid accuracy: 96.6%\n",
            "19:07:52 --- Epoch: 70\tTrain loss: 0.0003\tValid loss: 0.2684\tTrain accuracy: 100.0%\tValid accuracy: 96.6%\n",
            "19:08:02 --- Epoch: 71\tTrain loss: 0.0003\tValid loss: 0.2687\tTrain accuracy: 100.0%\tValid accuracy: 96.6%\n",
            "19:08:13 --- Epoch: 72\tTrain loss: 0.0003\tValid loss: 0.2691\tTrain accuracy: 100.0%\tValid accuracy: 96.6%\n",
            "19:08:22 --- Epoch: 73\tTrain loss: 0.0003\tValid loss: 0.2696\tTrain accuracy: 100.0%\tValid accuracy: 96.6%\n",
            "19:08:31 --- Epoch: 74\tTrain loss: 0.0003\tValid loss: 0.2700\tTrain accuracy: 100.0%\tValid accuracy: 96.6%\n",
            "19:08:41 --- Epoch: 75\tTrain loss: 0.0002\tValid loss: 0.2704\tTrain accuracy: 100.0%\tValid accuracy: 96.6%\n",
            "19:08:50 --- Epoch: 76\tTrain loss: 0.0002\tValid loss: 0.2709\tTrain accuracy: 100.0%\tValid accuracy: 96.6%\n",
            "19:09:00 --- Epoch: 77\tTrain loss: 0.0002\tValid loss: 0.2714\tTrain accuracy: 100.0%\tValid accuracy: 96.6%\n",
            "Early stopping and save the model with best validation accuracy: 96.64% in epoch 57\n",
            "cpu execution time to train the network in 100 epochs is: 12.33 minutes.\n"
          ]
        },
        {
          "data": {
            "image/png": "[encoded data removed]",
            "text/plain": [
              "<Figure size 540x360 with 1 Axes>"
            ]
          },
          "metadata": {},
          "output_type": "display_data"
        },
        {
          "data": {
            "image/png": "[encoded data removed]",
            "text/plain": [
              "<Figure size 750x500 with 1 Axes>"
            ]
          },
          "metadata": {},
          "output_type": "display_data"
        }
      ],
      "source": [
        "if torch.cuda.is_available():\n",
        "    print(\"You're now training using GPU\\n\")\n",
        "    model = model.float().to(torch.device('cuda'))\n",
        "    DEVICE = 'cuda'\n",
        "else:\n",
        "    print(\"You're now training using CPU\\n\")\n",
        "    model = model.float().to(torch.device('cpu'))\n",
        "    DEVICE = 'cpu'\n",
        "\n",
        "st = time.time()\n",
        "#start training the model\n",
        "model, opt, _ = training_loop(model, criterion, early_stopping , patience ,opt, X_train, y_train, X_val, y_val, EPOCHS, DEVICE, scheduler, scheduler_on = 'valid_acc')\n",
        "et = time.time()\n",
        "\n",
        "# get the execution time\n",
        "elapsed_time = (et - st)/60 if et - st >= 60 else et - st\n",
        "unit = 'minutes' if et - st >= 60 else 'seconds'\n",
        "\n",
        "print(f'{DEVICE} execution time to train the network in {EPOCHS} epochs is: {elapsed_time:.2f} {unit}.')"
      ]
    },
    {
      "cell_type": "markdown",
      "metadata": {
        "id": "f0TTA2pyW8tX"
      },
      "source": [
        "### Test Model"
      ]
    },
    {
      "cell_type": "code",
      "execution_count": 24,
      "metadata": {
        "colab": {
          "base_uri": "https://localhost:8080/"
        },
        "id": "PA_gBSufW-Yi",
        "outputId": "2841d527-5ea6-4f53-cb67-26d64db5b938"
      },
      "outputs": [
        {
          "name": "stdout",
          "output_type": "stream",
          "text": [
            "The test loss: 0.273 And the test accuracy: 99.15% for batch size 20.\n"
          ]
        }
      ],
      "source": [
        "test_loss, test_accuracy = model_evaluation(model, X_test, y_test, DEVICE)\n",
        "print(f\"The test loss: {test_loss} And the test accuracy: {test_accuracy}% for batch size 20.\")"
      ]
    },
    {
      "cell_type": "markdown",
      "metadata": {
        "id": "K5B_3pSY4X0M"
      },
      "source": [
        "### **Dynamic Quantize the Le-Net 5 model.**\n",
        "\n",
        "Involves not just converting the weights to int8 (as in all quantization variants), but also converting the activations to int8 on the fly, just before doing the computation (hence “dynamic”).\n",
        "The computations will be performed using efficient int8 matrix multiplication and convolution implementations, resulting in faster compute.\n",
        "However, the activations are read and written to memory in floating point format.\n",
        "\n",
        "**Important note**: PyTorch quantized model run only in CPU, pytorch doesn't support CUDA backend for the quantized models.\n",
        "\n",
        "REF: https://github.com/taldatech/ee046211-deep-learning/blob/main/ee046211_tutorial_10_compression_pruning_amp.ipynb"
      ]
    },
    {
      "cell_type": "markdown",
      "metadata": {
        "id": "Pf2K86uzMpVk"
      },
      "source": [
        "First Trial:- Build **qint8** quantized le-net 5 model and test it."
      ]
    },
    {
      "cell_type": "code",
      "execution_count": 25,
      "metadata": {
        "colab": {
          "base_uri": "https://localhost:8080/"
        },
        "id": "kYgYAmSzjdg8",
        "outputId": "d6564e6d-92f0-4948-e3db-523fbc1b1079"
      },
      "outputs": [
        {
          "name": "stdout",
          "output_type": "stream",
          "text": [
            "LeNet(\n",
            "  (CNN): Sequential(\n",
            "    (0): Conv2d(1, 28, kernel_size=(5, 5), stride=(1, 1))\n",
            "    (1): ReLU()\n",
            "    (2): AvgPool2d(kernel_size=2, stride=2, padding=0)\n",
            "    (3): Conv2d(28, 16, kernel_size=(5, 5), stride=(1, 1))\n",
            "    (4): ReLU()\n",
            "    (5): AvgPool2d(kernel_size=2, stride=2, padding=0)\n",
            "  )\n",
            "  (flat): Flatten(start_dim=1, end_dim=-1)\n",
            "  (FC): Sequential(\n",
            "    (0): DynamicQuantizedLinear(in_features=400, out_features=120, dtype=torch.qint8, qscheme=torch.per_tensor_affine)\n",
            "    (1): ReLU()\n",
            "    (2): DynamicQuantizedLinear(in_features=120, out_features=84, dtype=torch.qint8, qscheme=torch.per_tensor_affine)\n",
            "    (3): ReLU()\n",
            "    (4): DynamicQuantizedLinear(in_features=84, out_features=10, dtype=torch.qint8, qscheme=torch.per_tensor_affine)\n",
            "  )\n",
            ")\n"
          ]
        }
      ],
      "source": [
        "qint8_quantized_model = torch.quantization.quantize_dynamic(model, {nn.Linear, nn.Conv2d, nn.ReLU, nn.AvgPool2d}, dtype=torch.qint8)\n",
        "print(qint8_quantized_model)"
      ]
    },
    {
      "cell_type": "code",
      "execution_count": 26,
      "metadata": {
        "colab": {
          "base_uri": "https://localhost:8080/"
        },
        "id": "15_qSFYwkP6y",
        "outputId": "8ba43a5b-7549-4a81-9bde-32011b56d538"
      },
      "outputs": [
        {
          "name": "stdout",
          "output_type": "stream",
          "text": [
            "Model Size (MB) 0.287239\n",
            "qint8 quantized Model Size (MB) 0.112501\n"
          ]
        }
      ],
      "source": [
        "def size_of_model(model):\n",
        "    \"\"\"\n",
        "    get the size of the model in MB.\n",
        "    \"\"\"\n",
        "    torch.save(model.state_dict(), \"temp.p\")\n",
        "    return os.path.getsize(\"temp.p\")/1e6\n",
        "    \n",
        "\n",
        "print(f\"Model Size (MB) {size_of_model(model)}\")\n",
        "print(f\"qint8 quantized Model Size (MB) {size_of_model(qint8_quantized_model)}\")\n"
      ]
    },
    {
      "cell_type": "code",
      "execution_count": 27,
      "metadata": {
        "colab": {
          "base_uri": "https://localhost:8080/"
        },
        "id": "lJXoESQ1kdkR",
        "outputId": "bf33099b-51bc-4257-a9a5-3827fa323bc4"
      },
      "outputs": [
        {
          "name": "stdout",
          "output_type": "stream",
          "text": [
            "CPU elapsed time to test the model 2.91 seconds, the loss is 0.273 and the accuracy is 99.15%.\n",
            "CPU elapsed time to test the qint8 quantized model 3.16 seconds, the loss is 0.273 and the accuracy is 99.16%.\n"
          ]
        }
      ],
      "source": [
        "def time_model_evaluation(model, X_test, y_test, DEVICE):\n",
        "    s = time.time()\n",
        "    test_loss, test_accuracy = model_evaluation(model, X_test, y_test, DEVICE)\n",
        "    elapsed = time.time() - s\n",
        "    return round(elapsed, 2), test_loss, test_accuracy\n",
        "elapsed,  test_loss, test_accuracy = time_model_evaluation(model, X_test, y_test, DEVICE)\n",
        "qint8_quant_elapsed,  qint8_quant_test_loss, qint8_quant_test_accuracy = time_model_evaluation(qint8_quantized_model, X_test, y_test, DEVICE)\n",
        "\n",
        "print(f\"CPU elapsed time to test the model {elapsed} seconds, the loss is {test_loss} and the accuracy is {test_accuracy}%.\")\n",
        "print(f\"CPU elapsed time to test the qint8 quantized model {qint8_quant_elapsed} seconds, the loss is {qint8_quant_test_loss} and the accuracy is {qint8_quant_test_accuracy}%.\")"
      ]
    },
    {
      "cell_type": "markdown",
      "metadata": {
        "id": "CLgsZS7z95Cg"
      },
      "source": [
        "From the above results, you can see that quantized Le-Net5 model took less much time to test on the data with the same accuracy and a littel higher loss than the original model, also its size is the half of the original model."
      ]
    },
    {
      "cell_type": "markdown",
      "metadata": {
        "id": "qVT6O8n6IzVG"
      },
      "source": [
        "#### Try the same quantized model but with different bits for the weights."
      ]
    },
    {
      "cell_type": "markdown",
      "metadata": {
        "id": "MV6VoPl6Lxj2"
      },
      "source": [
        "Second Trial:- Build **quint8** quantized le-net 5 model and test it.\n"
      ]
    },
    {
      "cell_type": "code",
      "execution_count": 28,
      "metadata": {
        "colab": {
          "base_uri": "https://localhost:8080/"
        },
        "id": "UxR_3lRz94BO",
        "outputId": "564bf81c-a554-4844-b901-4973fc36e8dd"
      },
      "outputs": [
        {
          "name": "stdout",
          "output_type": "stream",
          "text": [
            "quint8 quantized Size (MB) 0.287239\n",
            "CPU elapsed time to test the quint8 quantized model 2.9 seconds, the loss is 0.273 and the accuracy is 99.15%.\n"
          ]
        }
      ],
      "source": [
        "quint8_quantized_model = torch.quantization.quantize_dynamic(model, {nn.Conv2d, nn.ReLU, nn.AvgPool2d}, dtype=torch.quint8)\n",
        "print(f\"quint8 quantized Size (MB) {size_of_model(quint8_quantized_model)}\")\n",
        "quint8_quant_elapsed,  quint8_quant_test_loss, quint8_quant_test_accuracy = time_model_evaluation(quint8_quantized_model, X_test, y_test, DEVICE)\n",
        "print(f\"CPU elapsed time to test the quint8 quantized model {quint8_quant_elapsed} seconds, the loss is {quint8_quant_test_loss} and the accuracy is {quint8_quant_test_accuracy}%.\")"
      ]
    },
    {
      "cell_type": "markdown",
      "metadata": {
        "id": "MA3g6Q6fL4vM"
      },
      "source": [
        "Third Trial:- Build **quint4x2** quantized le-net 5 model and test it."
      ]
    },
    {
      "cell_type": "code",
      "execution_count": 29,
      "metadata": {
        "colab": {
          "base_uri": "https://localhost:8080/"
        },
        "id": "H0iQXu5QJcVI",
        "outputId": "945a1ff7-2042-4786-edfa-06144ad2866e"
      },
      "outputs": [
        {
          "name": "stdout",
          "output_type": "stream",
          "text": [
            "quint4x2 quantized Size (MB) 0.287239\n",
            "CPU elapsed time to test the quint8 quantized model 2.9 seconds, the loss is 0.273 and the accuracy is 99.15%.\n"
          ]
        }
      ],
      "source": [
        "quint4x2_quantized_model = torch.quantization.quantize_dynamic(model, {nn.Conv2d, nn.ReLU, nn.AvgPool2d}, dtype=torch.quint4x2)\n",
        "print(f\"quint4x2 quantized Size (MB) {size_of_model(quint4x2_quantized_model)}\")\n",
        "quint4x2_quant_elapsed,  quint4x2_quant_test_loss, quint4x2_quant_test_accuracy = time_model_evaluation(quint4x2_quantized_model, X_test, y_test, DEVICE)\n",
        "print(f\"CPU elapsed time to test the quint8 quantized model {quint4x2_quant_elapsed} seconds, the loss is {quint4x2_quant_test_loss} and the accuracy is {quint4x2_quant_test_accuracy}%.\")"
      ]
    },
    {
      "cell_type": "markdown",
      "metadata": {
        "id": "bX26cwoiL79E"
      },
      "source": [
        "Last Trial:- Build **float16** quantized le-net 5 model and test it."
      ]
    },
    {
      "cell_type": "code",
      "execution_count": 30,
      "metadata": {
        "colab": {
          "base_uri": "https://localhost:8080/"
        },
        "id": "WkTzGZVDKdHk",
        "outputId": "2eef2028-6158-4e63-d739-0ebafc9bcd53"
      },
      "outputs": [
        {
          "name": "stdout",
          "output_type": "stream",
          "text": [
            "Quantized Size (MB) 0.289205\n",
            "CPU elapsed time to test the float16 quantized model 3.18 seconds, the loss is 0.273 and the accuracy is 99.15%.\n"
          ]
        }
      ],
      "source": [
        "float16_quantized_model = torch.quantization.quantize_dynamic(model, {nn.Linear, nn.Conv2d, nn.ReLU, nn.AvgPool2d}, dtype=torch.float16)\n",
        "print(f\"Quantized Size (MB) {size_of_model(float16_quantized_model)}\")\n",
        "float16_quant_elapsed,  float16_quant_test_loss, float16_quant_test_accuracy = time_model_evaluation(float16_quantized_model, X_test, y_test, DEVICE)\n",
        "print(f\"CPU elapsed time to test the float16 quantized model {float16_quant_elapsed} seconds, the loss is {float16_quant_test_loss} and the accuracy is {float16_quant_test_accuracy}%.\")"
      ]
    },
    {
      "cell_type": "markdown",
      "metadata": {
        "id": "HrkJNf55UDM9"
      },
      "source": [
        "#### The optimal fractional and int bits"
      ]
    },
    {
      "cell_type": "markdown",
      "metadata": {
        "id": "w8Jd_A_vULDp"
      },
      "source": [
        "Based on the previous trials where we quantiaed the model with different data types (qint8, quint8, quint4x2, float16).\n",
        "\n",
        "The best model in case of the weights size was **qint8 quantized** model since it quantize all the weights in linear network to int8 and the weights size was the half of the original model."
      ]
    }
  ],
  "metadata": {
    "colab": {
      "collapsed_sections": [],
      "provenance": []
    },
    "gpuClass": "standard",
    "kernelspec": {
      "display_name": "Python 3.9.13 ('base')",
      "language": "python",
      "name": "python3"
    },
    "language_info": {
      "codemirror_mode": {
        "name": "ipython",
        "version": 3
      },
      "file_extension": ".py",
      "mimetype": "text/x-python",
      "name": "python",
      "nbconvert_exporter": "python",
      "pygments_lexer": "ipython3",
      "version": "3.9.13"
    },
    "vscode": {
      "interpreter": {
        "hash": "ad2bdc8ecc057115af97d19610ffacc2b4e99fae6737bb82f5d7fb13d2f2c186"
      }
    }
  },
  "nbformat": 4,
  "nbformat_minor": 0
}
